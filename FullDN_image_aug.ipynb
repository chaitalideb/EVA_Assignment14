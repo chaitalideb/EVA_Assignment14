{
  "nbformat": 4,
  "nbformat_minor": 0,
  "metadata": {
    "colab": {
      "name": "FullDN_image_aug.ipynb",
      "version": "0.3.2",
      "provenance": [],
      "collapsed_sections": [],
      "machine_shape": "hm"
    },
    "kernelspec": {
      "name": "python3",
      "display_name": "Python 3"
    },
    "accelerator": "GPU"
  },
  "cells": [
    {
      "cell_type": "code",
      "metadata": {
        "id": "kOsYqWHvQBrZ",
        "colab_type": "code",
        "colab": {}
      },
      "source": [
        "import numpy as np\n",
        "import time, math\n",
        "from tqdm import tqdm_notebook as tqdm\n",
        "\n",
        "import tensorflow as tf\n",
        "import tensorflow.contrib.eager as tfe"
      ],
      "execution_count": 0,
      "outputs": []
    },
    {
      "cell_type": "code",
      "metadata": {
        "id": "KcVY1UhnQPDO",
        "colab_type": "code",
        "colab": {}
      },
      "source": [
        "tf.enable_eager_execution()\n"
      ],
      "execution_count": 0,
      "outputs": []
    },
    {
      "cell_type": "code",
      "metadata": {
        "id": "4LfLeMAyQU7z",
        "colab_type": "code",
        "colab": {}
      },
      "source": [
        "BATCH_SIZE = 512 #@param {type:\"integer\"}\n",
        "MOMENTUM = 0.8 #@param {type:\"number\"}\n",
        "LEARNING_RATE = 9.0 #@param {type:\"number\"}\n",
        "WEIGHT_DECAY = 5e-4 #@param {type:\"number\"}\n",
        "EPOCHS = 24 #@param {type:\"integer\"}"
      ],
      "execution_count": 0,
      "outputs": []
    },
    {
      "cell_type": "code",
      "metadata": {
        "id": "AwS9BRv_QWR0",
        "colab_type": "code",
        "colab": {}
      },
      "source": [
        "def init_pytorch(shape, dtype=tf.float32, partition_info=None):\n",
        "  fan = np.prod(shape[:-1])\n",
        "  bound = 1 / math.sqrt(fan)\n",
        "  return tf.random.uniform(shape, minval=-bound, maxval=bound, dtype=dtype)"
      ],
      "execution_count": 0,
      "outputs": []
    },
    {
      "cell_type": "code",
      "metadata": {
        "id": "gQdPrpJ8QXvy",
        "colab_type": "code",
        "colab": {}
      },
      "source": [
        "class ConvBN(tf.keras.Model):\n",
        "  def __init__(self, c_out):\n",
        "    super().__init__()\n",
        "    self.conv = tf.keras.layers.Conv2D(filters=c_out, kernel_size=3, padding=\"SAME\", kernel_initializer=init_pytorch, use_bias=False)\n",
        "    self.bn = tf.keras.layers.BatchNormalization(momentum=0.9, epsilon=1e-5)\n",
        "\n",
        "  def call(self, inputs):\n",
        "    return tf.nn.relu(self.bn(self.conv(inputs)))"
      ],
      "execution_count": 0,
      "outputs": []
    },
    {
      "cell_type": "code",
      "metadata": {
        "id": "oBuqNlb7QZc9",
        "colab_type": "code",
        "colab": {}
      },
      "source": [
        "class ResBlk(tf.keras.Model):\n",
        "  def __init__(self, c_out, pool, res = False):\n",
        "    super().__init__()\n",
        "    self.conv_bn = ConvBN(c_out)\n",
        "    self.pool = pool\n",
        "    self.res = res\n",
        "    if self.res:\n",
        "      self.res1 = ConvBN(c_out)\n",
        "      self.res2 = ConvBN(c_out)\n",
        "\n",
        "  def call(self, inputs):\n",
        "    h = self.pool(self.conv_bn(inputs))\n",
        "    if self.res:\n",
        "      h = h + self.res2(self.res1(h))\n",
        "    return h"
      ],
      "execution_count": 0,
      "outputs": []
    },
    {
      "cell_type": "code",
      "metadata": {
        "id": "uB5ENbbjQa7r",
        "colab_type": "code",
        "colab": {}
      },
      "source": [
        "class DavidNet(tf.keras.Model):\n",
        "  def __init__(self, c=32, weight=0.125):\n",
        "    super().__init__()\n",
        "    pool = tf.keras.layers.MaxPooling2D()\n",
        "    self.init_conv_bn = ConvBN(c)\n",
        "    self.blk1 = ResBlk(64, pool, res = True)\n",
        "    self.blk2 = ResBlk(96, pool)\n",
        "    self.blk3 = ResBlk(128, pool, res = True)\n",
        "    self.pool = tf.keras.layers.GlobalMaxPool2D()\n",
        "    self.linear = tf.keras.layers.Dense(10, kernel_initializer=init_pytorch, use_bias=False)\n",
        "    self.weight = weight\n",
        "\n",
        "  def call(self, x, y):\n",
        "    h = self.pool(self.blk3(self.blk2(self.blk1(self.init_conv_bn(x)))))\n",
        "    h = self.linear(h) * self.weight\n",
        "    ce = tf.nn.sparse_softmax_cross_entropy_with_logits(logits=h, labels=y)\n",
        "    loss = tf.reduce_sum(ce)\n",
        "    correct = tf.reduce_sum(tf.cast(tf.math.equal(tf.argmax(h, axis = 1), y), tf.float32))\n",
        "    return loss, correct"
      ],
      "execution_count": 0,
      "outputs": []
    },
    {
      "cell_type": "code",
      "metadata": {
        "id": "chk0Xwzp5Z9X",
        "colab_type": "code",
        "colab": {}
      },
      "source": [
        "!cp '/floyd/input/imageaug/0_x.npy' .\n",
        "!cp '/floyd/input/imageaug/1_x.npy' .\n",
        "!cp '/floyd/input/imageaug/2_x.npy' .\n",
        "!cp '/floyd/input/imageaug/3_x.npy' .\n",
        "!cp '/floyd/input/imageaug/4_x.npy' .\n",
        "!cp '/floyd/input/imageaug/5_x.npy' .\n",
        "!cp '/floyd/input/imageaug/6_x.npy' .\n",
        "!cp '/floyd/input/imageaug/7_x.npy' .\n",
        "!cp '/floyd/input/imageaug/8_x.npy' .\n",
        "!cp '/floyd/input/imageaug/9_x.npy' .\n",
        "!cp '/floyd/input/imageaug/10_x.npy' .\n",
        "!cp '/floyd/input/imageaug/11_x.npy' .\n",
        "\n",
        "!cp '/floyd/input/imageaug/0_y.npy' .\n",
        "!cp '/floyd/input/imageaug/1_y.npy' .\n",
        "!cp '/floyd/input/imageaug/2_y.npy' .\n",
        "!cp '/floyd/input/imageaug/3_y.npy' .\n",
        "!cp '/floyd/input/imageaug/4_y.npy' .\n",
        "!cp '/floyd/input/imageaug/5_y.npy' .\n",
        "!cp '/floyd/input/imageaug/6_y.npy' .\n",
        "!cp '/floyd/input/imageaug/7_y.npy' .\n",
        "!cp '/floyd/input/imageaug/8_y.npy' .\n",
        "!cp '/floyd/input/imageaug/9_y.npy' .\n",
        "!cp '/floyd/input/imageaug/10_y.npy' .\n",
        "!cp '/floyd/input/imageaug/11_y.npy' .\n",
        "\n",
        "\n",
        "\n",
        "\n"
      ],
      "execution_count": 0,
      "outputs": []
    },
    {
      "cell_type": "code",
      "metadata": {
        "id": "kSka7I736kWT",
        "colab_type": "code",
        "colab": {}
      },
      "source": [
        "augmented_x_files = ['0_x.npy', '1_x.npy', '2_x.npy','3_x.npy', '4_x.npy', '5_x.npy',\n",
        "                     '6_x.npy', '7.npy', '8_x.npy','9_x.npy', '10_x.npy', '11_x.npy']\n",
        "\n",
        "\n",
        "augmented_y_files = ['0.npy','1.npy','2.npy','3.npy','4.npy','5.npy',\n",
        "                    '6.npy','7'.npy','8.npy','9.npy','10.npy','11.npy']\n",
        "\n",
        "combined_x_aug = None\n",
        "combined_y_aug = None"
      ],
      "execution_count": 0,
      "outputs": []
    },
    {
      "cell_type": "code",
      "metadata": {
        "id": "ql9y_ry-hukV",
        "colab_type": "code",
        "colab": {}
      },
      "source": [
        "for x_file_name in augmented_x_files[:2]:\n",
        "    aug_x = np.load(x_file_name, encoding='latin1')\n",
        "    if combined_x_aug is None:\n",
        "        combined_x_aug = aug_x\n",
        "    else:\n",
        "        combined_x_aug = np.append(combined_x_aug, aug_x, axis=0)\n",
        "    \n",
        "for y_file_name in augmented_y_files[:2]:\n",
        "    aug_y = np.load(y_file_name, encoding='latin1')\n",
        "    if combined_y_aug is None:\n",
        "        combined_y_aug = aug_y\n",
        "    else:\n",
        "        combined_y_aug = np.append(combined_y_aug, aug_y)        \n",
        "    "
      ],
      "execution_count": 0,
      "outputs": []
    },
    {
      "cell_type": "code",
      "metadata": {
        "id": "wVI5uJfvi7c2",
        "colab_type": "code",
        "colab": {}
      },
      "source": [
        "import matplotlib.pyplot as plt\n",
        "import numpy as np\n",
        "% matplotlib inline"
      ],
      "execution_count": 0,
      "outputs": []
    },
    {
      "cell_type": "code",
      "metadata": {
        "id": "q7qzDzCii-lF",
        "colab_type": "code",
        "outputId": "6cbb2640-22ed-4f92-ef29-20880df2741f",
        "colab": {
          "base_uri": "https://localhost:8080/",
          "height": 287
        }
      },
      "source": [
        "img = combined_x_aug[1]   \n",
        "plt.imshow(img)"
      ],
      "execution_count": 0,
      "outputs": [
        {
          "output_type": "execute_result",
          "data": {
            "text/plain": [
              "<matplotlib.image.AxesImage at 0x7f345d3568d0>"
            ]
          },
          "metadata": {
            "tags": []
          },
          "execution_count": 19
        },
        {
          "output_type": "display_data",
          "data": {
            "image/png": "[encoded data removed]",
            "text/plain": [
              "<Figure size 432x288 with 1 Axes>"
            ]
          },
          "metadata": {
            "tags": []
          }
        }
      ]
    },
    {
      "cell_type": "code",
      "metadata": {
        "id": "ZvQWH3P7iZYf",
        "colab_type": "code",
        "outputId": "4277bbe7-d053-4a55-8119-21f2f381b353",
        "colab": {
          "base_uri": "https://localhost:8080/",
          "height": 35
        }
      },
      "source": [
        "combined_y_aug[1]"
      ],
      "execution_count": 0,
      "outputs": [
        {
          "output_type": "execute_result",
          "data": {
            "text/plain": [
              "2"
            ]
          },
          "metadata": {
            "tags": []
          },
          "execution_count": 20
        }
      ]
    },
    {
      "cell_type": "code",
      "metadata": {
        "id": "EQC9BguoQcfp",
        "colab_type": "code",
        "outputId": "41404beb-b7e8-4d1e-b8ae-04d0c6991ebc",
        "colab": {
          "base_uri": "https://localhost:8080/",
          "height": 53
        }
      },
      "source": [
        "(x_train, y_train), (x_test, y_test) = tf.keras.datasets.cifar10.load_data()\n",
        "len_train, len_test = len(x_train), len(x_test)\n",
        "y_train = y_train.astype('int64').reshape(len_train)\n",
        "y_test = y_test.astype('int64').reshape(len_test)\n",
        "\n"
      ],
      "execution_count": 0,
      "outputs": [
        {
          "output_type": "stream",
          "text": [
            "Downloading data from https://www.cs.toronto.edu/~kriz/cifar-10-python.tar.gz\n",
            "170500096/170498071 [==============================] - 6s 0us/step\n"
          ],
          "name": "stdout"
        }
      ]
    },
    {
      "cell_type": "code",
      "metadata": {
        "id": "OXhj_2Vk9yTn",
        "colab_type": "code",
        "colab": {}
      },
      "source": [
        "def create_combined_aug_train_list(x_train,y_train,aug_x, aug_y, no_of_times):\n",
        "    x_train_aug = None\n",
        "    y_train_aug = None\n",
        "    for i in range(no_of_times):\n",
        "        random_index_list = np.random.rand(50000).argsort()\n",
        "        temp_x_train_list = x_train[random_index_list[:25000]]\n",
        "        temp_y_train_list = y_train[random_index_list[:25000]]\n",
        "        temp_aug_x_list = aug_x[i*25000: (i+1)*25000]\n",
        "        temp_aug_y_list = aug_y[i*25000: (i+1)*25000]\n",
        "        temp_x_train_aug = np.append(temp_x_train_list, temp_aug_x_list, axis=0)      \n",
        "        temp_y_train_aug = np.append(temp_y_train_list, temp_aug_y_list, axis=0)\n",
        "        random_index_list = np.random.rand(50000).argsort()\n",
        "        temp_x_train_aug = temp_x_train_aug[random_index_list]\n",
        "        temp_y_train_aug = temp_y_train_aug[random_index_list]\n",
        "      \n",
        "        if x_train_aug is None:\n",
        "            x_train_aug = temp_x_train_aug\n",
        "            y_train_aug = temp_y_train_aug\n",
        "        else:\n",
        "            x_train_aug = np.append(x_train_aug, temp_x_train_aug, axis=0)\n",
        "            y_train_aug = np.append(y_train_aug, temp_y_train_aug, axis=0)\n",
        "      \n",
        "    return x_train_aug, y_train_aug  \n",
        "    \n",
        "    "
      ],
      "execution_count": 0,
      "outputs": []
    },
    {
      "cell_type": "code",
      "metadata": {
        "id": "yVxs6BaFXKxA",
        "colab_type": "code",
        "colab": {}
      },
      "source": [
        "x_train_aug, y_train_aug  = create_combined_aug_train_list(x_train,y_train,combined_x_aug, combined_y_aug, 12)"
      ],
      "execution_count": 0,
      "outputs": []
    },
    {
      "cell_type": "code",
      "metadata": {
        "id": "GWGEuuVUYP4p",
        "colab_type": "code",
        "outputId": "b328b904-9ddc-4292-c56c-28c816a2ff1b",
        "colab": {
          "base_uri": "https://localhost:8080/",
          "height": 35
        }
      },
      "source": [
        "x_train_aug.shape"
      ],
      "execution_count": 0,
      "outputs": [
        {
          "output_type": "execute_result",
          "data": {
            "text/plain": [
              "(100000, 32, 32, 3)"
            ]
          },
          "metadata": {
            "tags": []
          },
          "execution_count": 19
        }
      ]
    },
    {
      "cell_type": "code",
      "metadata": {
        "id": "NrCtrXWaU68B",
        "colab_type": "code",
        "colab": {}
      },
      "source": [
        "train_mean = np.mean(x_train_aug, axis=(0,1,2))\n",
        "train_std = np.std(x_train_aug, axis=(0,1,2))\n",
        "\n",
        "normalize = lambda x: ((x - train_mean) / train_std).astype('float32') # todo: check here\n",
        "pad4 = lambda x: np.pad(x, [(0, 0), (4, 4), (4, 4), (0, 0)], mode='reflect')\n",
        "\n",
        "x_train_aug = normalize(pad4(x_train_aug))\n",
        "x_test = normalize(x_test)"
      ],
      "execution_count": 0,
      "outputs": []
    },
    {
      "cell_type": "code",
      "metadata": {
        "id": "u_5H7-d4U9ne",
        "colab_type": "code",
        "outputId": "02558a53-1d35-4183-d02e-53284656d867",
        "colab": {
          "base_uri": "https://localhost:8080/",
          "height": 35
        }
      },
      "source": [
        "x_train.shape"
      ],
      "execution_count": 0,
      "outputs": [
        {
          "output_type": "execute_result",
          "data": {
            "text/plain": [
              "(50000, 32, 32, 3)"
            ]
          },
          "metadata": {
            "tags": []
          },
          "execution_count": 21
        }
      ]
    },
    {
      "cell_type": "code",
      "metadata": {
        "id": "SZgBtuU079c2",
        "colab_type": "code",
        "outputId": "fcc818e0-eb3f-4fd8-8951-2206275e72f6",
        "colab": {
          "base_uri": "https://localhost:8080/",
          "height": 35
        }
      },
      "source": [
        "y_train.shape"
      ],
      "execution_count": 0,
      "outputs": [
        {
          "output_type": "execute_result",
          "data": {
            "text/plain": [
              "(50000,)"
            ]
          },
          "metadata": {
            "tags": []
          },
          "execution_count": 22
        }
      ]
    },
    {
      "cell_type": "code",
      "metadata": {
        "id": "2-rBodFhQeNZ",
        "colab_type": "code",
        "colab": {}
      },
      "source": [
        "model = DavidNet()\n",
        "batches_per_epoch = len_train//BATCH_SIZE + 1\n",
        "\n",
        "lr_schedule = lambda t: np.interp([t], [0, (EPOCHS+1)//5, EPOCHS], [0, LEARNING_RATE, 0])[0]\n",
        "global_step = tf.train.get_or_create_global_step()\n",
        "lr_func = lambda: lr_schedule(global_step/batches_per_epoch)/BATCH_SIZE\n",
        "opt = tf.train.MomentumOptimizer(lr_func, momentum=MOMENTUM, use_nesterov=True)\n",
        "data_aug = lambda x, y: (tf.image.random_flip_left_right(tf.random_crop(x, [32, 32, 3])), y)"
      ],
      "execution_count": 0,
      "outputs": []
    },
    {
      "cell_type": "code",
      "metadata": {
        "id": "Eeqp9zgtQjQN",
        "colab_type": "code",
        "outputId": "238d89d8-c4c3-4886-e1f2-43c756e96024",
        "colab": {
          "base_uri": "https://localhost:8080/",
          "height": 874
        }
      },
      "source": [
        "t = time.time()\n",
        "test_set = tf.data.Dataset.from_tensor_slices((x_test, y_test)).batch(BATCH_SIZE)\n",
        "\n",
        "for epoch in range(EPOCHS):\n",
        "  train_loss = test_loss = train_acc = test_acc = 0.0\n",
        "  #train_set = tf.data.Dataset.from_tensor_slices((x_train, y_train)).map(data_aug).shuffle(len_train).batch(BATCH_SIZE).prefetch(1)\n",
        "  train_set = tf.data.Dataset.from_tensor_slices((x_train_aug[epoch*50000:(epoch+1)*50000], y_train_aug[epoch*50000:(epoch+1)*50000])).batch(BATCH_SIZE).prefetch(1)\n",
        "\n",
        "  tf.keras.backend.set_learning_phase(1)\n",
        "  for (x, y) in tqdm(train_set):\n",
        "    with tf.GradientTape() as tape:\n",
        "      loss, correct = model(x, y)\n",
        "\n",
        "    var = model.trainable_variables\n",
        "    grads = tape.gradient(loss, var)\n",
        "    for g, v in zip(grads, var):\n",
        "      g += v * WEIGHT_DECAY * BATCH_SIZE\n",
        "    opt.apply_gradients(zip(grads, var), global_step=global_step)\n",
        "\n",
        "    train_loss += loss.numpy()\n",
        "    train_acc += correct.numpy()\n",
        "\n",
        "  tf.keras.backend.set_learning_phase(0)\n",
        "  for (x, y) in test_set:\n",
        "    loss, correct = model(x, y)\n",
        "    test_loss += loss.numpy()\n",
        "    test_acc += correct.numpy()\n",
        "    \n",
        "  print('epoch:', epoch+1, 'lr:', lr_schedule(epoch+1), 'train loss:', train_loss / len_train, 'train acc:', train_acc / len_train, 'val loss:', test_loss / len_test, 'val acc:', test_acc / len_test, 'time:', time.time() - t)"
      ],
      "execution_count": 0,
      "outputs": [
        {
          "output_type": "display_data",
          "data": {
            "application/vnd.jupyter.widget-view+json": {
              "model_id": "526bbc4ac1c840abac1a1f82b5ea70e8",
              "version_minor": 0,
              "version_major": 2
            },
            "text/plain": [
              "HBox(children=(IntProgress(value=1, bar_style='info', max=1), HTML(value='')))"
            ]
          },
          "metadata": {
            "tags": []
          }
        },
        {
          "output_type": "stream",
          "text": [
            "\n",
            "epoch: 1 lr: 1.8 train loss: 1.4629514971923827 train acc: 0.46802 val loss: 1.2344836517333984 val acc: 0.5679 time: 82.46579051017761\n"
          ],
          "name": "stdout"
        },
        {
          "output_type": "display_data",
          "data": {
            "application/vnd.jupyter.widget-view+json": {
              "model_id": "f960e0a726ac40a8aa7bd467c45e0439",
              "version_minor": 0,
              "version_major": 2
            },
            "text/plain": [
              "HBox(children=(IntProgress(value=1, bar_style='info', max=1), HTML(value='')))"
            ]
          },
          "metadata": {
            "tags": []
          }
        },
        {
          "output_type": "stream",
          "text": [
            "\n",
            "epoch: 2 lr: 3.6 train loss: 0.8371428315734863 train acc: 0.70774 val loss: 1.1328723419189453 val acc: 0.622 time: 157.75106072425842\n"
          ],
          "name": "stdout"
        },
        {
          "output_type": "display_data",
          "data": {
            "application/vnd.jupyter.widget-view+json": {
              "model_id": "6c94e02a4cfe46008029d4c0849fcd00",
              "version_minor": 0,
              "version_major": 2
            },
            "text/plain": [
              "HBox(children=(IntProgress(value=1, bar_style='info', max=1), HTML(value='')))"
            ]
          },
          "metadata": {
            "tags": []
          }
        },
        {
          "output_type": "stream",
          "text": [
            "\n",
            "epoch: 3 lr: 5.4 train loss: 0.7661604789733887 train acc: 0.74289 val loss: 1.2507989379882813 val acc: 0.5991 time: 233.16759324073792\n"
          ],
          "name": "stdout"
        },
        {
          "output_type": "display_data",
          "data": {
            "application/vnd.jupyter.widget-view+json": {
              "model_id": "91de4fcc93fe486faf333be65afe0ed5",
              "version_minor": 0,
              "version_major": 2
            },
            "text/plain": [
              "HBox(children=(IntProgress(value=1, bar_style='info', max=1), HTML(value='')))"
            ]
          },
          "metadata": {
            "tags": []
          }
        },
        {
          "output_type": "stream",
          "text": [
            "\n",
            "epoch: 4 lr: 7.2 train loss: 0.8192239708709717 train acc: 0.73065 val loss: 1.1541218719482422 val acc: 0.6168 time: 308.2236430644989\n"
          ],
          "name": "stdout"
        },
        {
          "output_type": "display_data",
          "data": {
            "application/vnd.jupyter.widget-view+json": {
              "model_id": "d65278cadf5d40c8a5de58026dce822f",
              "version_minor": 0,
              "version_major": 2
            },
            "text/plain": [
              "HBox(children=(IntProgress(value=1, bar_style='info', max=1), HTML(value='')))"
            ]
          },
          "metadata": {
            "tags": []
          }
        },
        {
          "output_type": "stream",
          "text": [
            "\n",
            "epoch: 5 lr: 9.0 train loss: 0.9152791751098632 train acc: 0.70398 val loss: 7.91887197265625 val acc: 0.2077 time: 383.43316435813904\n"
          ],
          "name": "stdout"
        },
        {
          "output_type": "display_data",
          "data": {
            "application/vnd.jupyter.widget-view+json": {
              "model_id": "5610bac92ac34024a7fe1e24ead388f6",
              "version_minor": 0,
              "version_major": 2
            },
            "text/plain": [
              "HBox(children=(IntProgress(value=1, bar_style='info', max=1), HTML(value='')))"
            ]
          },
          "metadata": {
            "tags": []
          }
        },
        {
          "output_type": "stream",
          "text": [
            "\n",
            "epoch: 6 lr: 8.526315789473685 train loss: 0.845936466217041 train acc: 0.7082 val loss: 1.2436774047851562 val acc: 0.5891 time: 458.3292627334595\n"
          ],
          "name": "stdout"
        },
        {
          "output_type": "display_data",
          "data": {
            "application/vnd.jupyter.widget-view+json": {
              "model_id": "e2867d4a980c475f99ad4b8c5ca95dd5",
              "version_minor": 0,
              "version_major": 2
            },
            "text/plain": [
              "HBox(children=(IntProgress(value=1, bar_style='info', max=1), HTML(value='')))"
            ]
          },
          "metadata": {
            "tags": []
          }
        },
        {
          "output_type": "stream",
          "text": [
            "\n",
            "epoch: 7 lr: 8.052631578947368 train loss: 0.5519545721435547 train acc: 0.80829 val loss: 1.1949388000488281 val acc: 0.6147 time: 533.3773834705353\n"
          ],
          "name": "stdout"
        },
        {
          "output_type": "display_data",
          "data": {
            "application/vnd.jupyter.widget-view+json": {
              "model_id": "fe4911932972488292059cce76e60850",
              "version_minor": 0,
              "version_major": 2
            },
            "text/plain": [
              "HBox(children=(IntProgress(value=1, bar_style='info', max=1), HTML(value='')))"
            ]
          },
          "metadata": {
            "tags": []
          }
        },
        {
          "output_type": "stream",
          "text": [
            "\n",
            "epoch: 8 lr: 7.578947368421053 train loss: 0.4441435782623291 train acc: 0.84524 val loss: 0.9687178649902344 val acc: 0.6875 time: 608.1045830249786\n"
          ],
          "name": "stdout"
        },
        {
          "output_type": "display_data",
          "data": {
            "application/vnd.jupyter.widget-view+json": {
              "model_id": "4942a36c46f94aa68c2e67e4e4b3e31a",
              "version_minor": 0,
              "version_major": 2
            },
            "text/plain": [
              "HBox(children=(IntProgress(value=1, bar_style='info', max=1), HTML(value='')))"
            ]
          },
          "metadata": {
            "tags": []
          }
        },
        {
          "output_type": "stream",
          "text": [
            "\n",
            "epoch: 9 lr: 7.105263157894737 train loss: 0.3685045113372803 train acc: 0.87093 val loss: 0.8409268341064453 val acc: 0.7287 time: 683.3249957561493\n"
          ],
          "name": "stdout"
        },
        {
          "output_type": "display_data",
          "data": {
            "application/vnd.jupyter.widget-view+json": {
              "model_id": "c5700d568a9f4984917511b89516c1c4",
              "version_minor": 0,
              "version_major": 2
            },
            "text/plain": [
              "HBox(children=(IntProgress(value=1, bar_style='info', max=1), HTML(value='')))"
            ]
          },
          "metadata": {
            "tags": []
          }
        },
        {
          "output_type": "stream",
          "text": [
            "\n",
            "epoch: 10 lr: 6.631578947368421 train loss: 0.30982126556396483 train acc: 0.89145 val loss: 0.9405127365112305 val acc: 0.7125 time: 758.0756361484528\n"
          ],
          "name": "stdout"
        },
        {
          "output_type": "display_data",
          "data": {
            "application/vnd.jupyter.widget-view+json": {
              "model_id": "cd781a15d4b54c10bc6a8814da123acb",
              "version_minor": 0,
              "version_major": 2
            },
            "text/plain": [
              "HBox(children=(IntProgress(value=1, bar_style='info', max=1), HTML(value='')))"
            ]
          },
          "metadata": {
            "tags": []
          }
        },
        {
          "output_type": "stream",
          "text": [
            "\n",
            "epoch: 11 lr: 6.157894736842105 train loss: 0.25811228668212893 train acc: 0.90979 val loss: 0.9265366333007813 val acc: 0.7241 time: 833.0247519016266\n"
          ],
          "name": "stdout"
        },
        {
          "output_type": "display_data",
          "data": {
            "application/vnd.jupyter.widget-view+json": {
              "model_id": "fcee82fd29764910adb46138808da786",
              "version_minor": 0,
              "version_major": 2
            },
            "text/plain": [
              "HBox(children=(IntProgress(value=1, bar_style='info', max=1), HTML(value='')))"
            ]
          },
          "metadata": {
            "tags": []
          }
        },
        {
          "output_type": "stream",
          "text": [
            "\n",
            "epoch: 12 lr: 5.684210526315789 train loss: 0.2195078625679016 train acc: 0.9221 val loss: 0.9871583374023437 val acc: 0.7251 time: 907.8477411270142\n"
          ],
          "name": "stdout"
        },
        {
          "output_type": "display_data",
          "data": {
            "application/vnd.jupyter.widget-view+json": {
              "model_id": "4cb8975adf3a4a25ae3c639e1802e13f",
              "version_minor": 0,
              "version_major": 2
            },
            "text/plain": [
              "HBox(children=(IntProgress(value=1, bar_style='info', max=1), HTML(value='')))"
            ]
          },
          "metadata": {
            "tags": []
          }
        },
        {
          "output_type": "stream",
          "text": [
            "\n",
            "epoch: 13 lr: 5.210526315789474 train loss: 0.18448486755371094 train acc: 0.93494 val loss: 1.0282983459472657 val acc: 0.7349 time: 982.9797194004059\n"
          ],
          "name": "stdout"
        },
        {
          "output_type": "display_data",
          "data": {
            "application/vnd.jupyter.widget-view+json": {
              "model_id": "95d730c68f564b04a7ef2343738a1a26",
              "version_minor": 0,
              "version_major": 2
            },
            "text/plain": [
              "HBox(children=(IntProgress(value=1, bar_style='info', max=1), HTML(value='')))"
            ]
          },
          "metadata": {
            "tags": []
          }
        },
        {
          "output_type": "stream",
          "text": [
            "\n",
            "epoch: 14 lr: 4.736842105263158 train loss: 0.15301637775421142 train acc: 0.94554 val loss: 1.037606381225586 val acc: 0.7508 time: 1057.7153389453888\n"
          ],
          "name": "stdout"
        },
        {
          "output_type": "display_data",
          "data": {
            "application/vnd.jupyter.widget-view+json": {
              "model_id": "8d4cb4d2ef6e4199875885b4416f214f",
              "version_minor": 0,
              "version_major": 2
            },
            "text/plain": [
              "HBox(children=(IntProgress(value=1, bar_style='info', max=1), HTML(value='')))"
            ]
          },
          "metadata": {
            "tags": []
          }
        },
        {
          "output_type": "stream",
          "text": [
            "\n",
            "epoch: 15 lr: 4.2631578947368425 train loss: 0.12482227130889892 train acc: 0.95657 val loss: 1.1320917938232422 val acc: 0.7352 time: 1132.6152157783508\n"
          ],
          "name": "stdout"
        },
        {
          "output_type": "display_data",
          "data": {
            "application/vnd.jupyter.widget-view+json": {
              "model_id": "7dc73479661849218e5dda42355f3db5",
              "version_minor": 0,
              "version_major": 2
            },
            "text/plain": [
              "HBox(children=(IntProgress(value=1, bar_style='info', max=1), HTML(value='')))"
            ]
          },
          "metadata": {
            "tags": []
          }
        },
        {
          "output_type": "stream",
          "text": [
            "\n",
            "epoch: 16 lr: 3.7894736842105265 train loss: 0.0925480893421173 train acc: 0.96712 val loss: 1.5106195098876953 val acc: 0.6982 time: 1207.2950088977814\n"
          ],
          "name": "stdout"
        },
        {
          "output_type": "display_data",
          "data": {
            "application/vnd.jupyter.widget-view+json": {
              "model_id": "692d1b9733a54021b61315f63812108d",
              "version_minor": 0,
              "version_major": 2
            },
            "text/plain": [
              "HBox(children=(IntProgress(value=1, bar_style='info', max=1), HTML(value='')))"
            ]
          },
          "metadata": {
            "tags": []
          }
        },
        {
          "output_type": "stream",
          "text": [
            "\n",
            "epoch: 17 lr: 3.3157894736842106 train loss: 0.07122918380737304 train acc: 0.97482 val loss: 1.320445346069336 val acc: 0.7375 time: 1282.3916325569153\n"
          ],
          "name": "stdout"
        },
        {
          "output_type": "display_data",
          "data": {
            "application/vnd.jupyter.widget-view+json": {
              "model_id": "2d633c46bd024b3197a5123a72c6cd99",
              "version_minor": 0,
              "version_major": 2
            },
            "text/plain": [
              "HBox(children=(IntProgress(value=1, bar_style='info', max=1), HTML(value='')))"
            ]
          },
          "metadata": {
            "tags": []
          }
        },
        {
          "output_type": "stream",
          "text": [
            "\n",
            "epoch: 18 lr: 2.8421052631578947 train loss: 0.04992698495864868 train acc: 0.98253 val loss: 1.6278551971435546 val acc: 0.7148 time: 1357.0737798213959\n"
          ],
          "name": "stdout"
        },
        {
          "output_type": "display_data",
          "data": {
            "application/vnd.jupyter.widget-view+json": {
              "model_id": "30b8d46e863e402ca3f79637ed750727",
              "version_minor": 0,
              "version_major": 2
            },
            "text/plain": [
              "HBox(children=(IntProgress(value=1, bar_style='info', max=1), HTML(value='')))"
            ]
          },
          "metadata": {
            "tags": []
          }
        },
        {
          "output_type": "stream",
          "text": [
            "\n",
            "epoch: 19 lr: 2.3684210526315796 train loss: 0.030563690843582153 train acc: 0.98976 val loss: 1.3469409118652345 val acc: 0.7602 time: 1432.1037216186523\n"
          ],
          "name": "stdout"
        },
        {
          "output_type": "display_data",
          "data": {
            "application/vnd.jupyter.widget-view+json": {
              "model_id": "5115d0bb657f4d558d95a67b7042f922",
              "version_minor": 0,
              "version_major": 2
            },
            "text/plain": [
              "HBox(children=(IntProgress(value=1, bar_style='info', max=1), HTML(value='')))"
            ]
          },
          "metadata": {
            "tags": []
          }
        },
        {
          "output_type": "stream",
          "text": [
            "\n",
            "epoch: 20 lr: 1.8947368421052637 train loss: 0.01646588268995285 train acc: 0.99532 val loss: 1.3176430938720702 val acc: 0.7667 time: 1506.6960639953613\n"
          ],
          "name": "stdout"
        },
        {
          "output_type": "display_data",
          "data": {
            "application/vnd.jupyter.widget-view+json": {
              "model_id": "31829d4dfef54f2bb2542f740a6ccb9c",
              "version_minor": 0,
              "version_major": 2
            },
            "text/plain": [
              "HBox(children=(IntProgress(value=1, bar_style='info', max=1), HTML(value='')))"
            ]
          },
          "metadata": {
            "tags": []
          }
        },
        {
          "output_type": "stream",
          "text": [
            "\n",
            "epoch: 21 lr: 1.4210526315789478 train loss: 0.007702856873273849 train acc: 0.99839 val loss: 1.338818392944336 val acc: 0.7691 time: 1581.583359003067\n"
          ],
          "name": "stdout"
        },
        {
          "output_type": "display_data",
          "data": {
            "application/vnd.jupyter.widget-view+json": {
              "model_id": "1c9926fa56b040e7852249e13d783185",
              "version_minor": 0,
              "version_major": 2
            },
            "text/plain": [
              "HBox(children=(IntProgress(value=1, bar_style='info', max=1), HTML(value='')))"
            ]
          },
          "metadata": {
            "tags": []
          }
        },
        {
          "output_type": "stream",
          "text": [
            "\n",
            "epoch: 22 lr: 0.9473684210526319 train loss: 0.0036417261520028115 train acc: 0.99955 val loss: 1.3791298645019532 val acc: 0.771 time: 1656.1269047260284\n"
          ],
          "name": "stdout"
        },
        {
          "output_type": "display_data",
          "data": {
            "application/vnd.jupyter.widget-view+json": {
              "model_id": "ae926be91814446e9f1fc4a027b9e032",
              "version_minor": 0,
              "version_major": 2
            },
            "text/plain": [
              "HBox(children=(IntProgress(value=1, bar_style='info', max=1), HTML(value='')))"
            ]
          },
          "metadata": {
            "tags": []
          }
        },
        {
          "output_type": "stream",
          "text": [
            "\n",
            "epoch: 23 lr: 0.4736842105263168 train loss: 0.0023746040600538254 train acc: 0.99978 val loss: 1.400496841430664 val acc: 0.7706 time: 1730.9191403388977\n"
          ],
          "name": "stdout"
        },
        {
          "output_type": "display_data",
          "data": {
            "application/vnd.jupyter.widget-view+json": {
              "model_id": "3203730e74c541d0a4d06d0e56361bc8",
              "version_minor": 0,
              "version_major": 2
            },
            "text/plain": [
              "HBox(children=(IntProgress(value=1, bar_style='info', max=1), HTML(value='')))"
            ]
          },
          "metadata": {
            "tags": []
          }
        },
        {
          "output_type": "stream",
          "text": [
            "\n",
            "epoch: 24 lr: 0.0 train loss: 0.0019786288926005365 train acc: 0.99981 val loss: 1.4073136596679687 val acc: 0.7699 time: 1805.6415901184082\n"
          ],
          "name": "stdout"
        }
      ]
    }
  ]
}